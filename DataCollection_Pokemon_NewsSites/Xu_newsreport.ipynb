{
  "nbformat": 4,
  "nbformat_minor": 0,
  "metadata": {
    "colab": {
      "name": "Xu_newsreport.ipynb",
      "provenance": [],
      "collapsed_sections": []
    },
    "kernelspec": {
      "name": "python3",
      "display_name": "Python 3"
    }
  },
  "cells": [
    {
      "cell_type": "markdown",
      "metadata": {
        "id": "mvD_45HiSik2"
      },
      "source": [
        "#DATASCI - S11\r\n",
        "Xu, Aaron John S. (11728027)"
      ]
    },
    {
      "cell_type": "markdown",
      "metadata": {
        "id": "eSG2F1LQUePt"
      },
      "source": [
        "#Install newspaper3k"
      ]
    },
    {
      "cell_type": "code",
      "metadata": {
        "colab": {
          "base_uri": "https://localhost:8080/"
        },
        "id": "sdPR4SlYAopt",
        "outputId": "a573988d-3916-4da0-f7af-2b8e3bc24cde"
      },
      "source": [
        "!pip install newspaper3k"
      ],
      "execution_count": 1,
      "outputs": [
        {
          "output_type": "stream",
          "text": [
            "Collecting newspaper3k\n",
            "\u001b[?25l  Downloading https://files.pythonhosted.org/packages/d7/b9/51afecb35bb61b188a4b44868001de348a0e8134b4dfa00ffc191567c4b9/newspaper3k-0.2.8-py3-none-any.whl (211kB)\n",
            "\u001b[K     |████████████████████████████████| 215kB 5.2MB/s \n",
            "\u001b[?25hCollecting jieba3k>=0.35.1\n",
            "\u001b[?25l  Downloading https://files.pythonhosted.org/packages/a9/cb/2c8332bcdc14d33b0bedd18ae0a4981a069c3513e445120da3c3f23a8aaa/jieba3k-0.35.1.zip (7.4MB)\n",
            "\u001b[K     |████████████████████████████████| 7.4MB 6.5MB/s \n",
            "\u001b[?25hRequirement already satisfied: python-dateutil>=2.5.3 in /usr/local/lib/python3.7/dist-packages (from newspaper3k) (2.8.1)\n",
            "Requirement already satisfied: beautifulsoup4>=4.4.1 in /usr/local/lib/python3.7/dist-packages (from newspaper3k) (4.6.3)\n",
            "Collecting feedfinder2>=0.0.4\n",
            "  Downloading https://files.pythonhosted.org/packages/35/82/1251fefec3bb4b03fd966c7e7f7a41c9fc2bb00d823a34c13f847fd61406/feedfinder2-0.0.4.tar.gz\n",
            "Collecting tinysegmenter==0.3\n",
            "  Downloading https://files.pythonhosted.org/packages/17/82/86982e4b6d16e4febc79c2a1d68ee3b707e8a020c5d2bc4af8052d0f136a/tinysegmenter-0.3.tar.gz\n",
            "Requirement already satisfied: requests>=2.10.0 in /usr/local/lib/python3.7/dist-packages (from newspaper3k) (2.23.0)\n",
            "Collecting cssselect>=0.9.2\n",
            "  Downloading https://files.pythonhosted.org/packages/3b/d4/3b5c17f00cce85b9a1e6f91096e1cc8e8ede2e1be8e96b87ce1ed09e92c5/cssselect-1.1.0-py2.py3-none-any.whl\n",
            "Requirement already satisfied: nltk>=3.2.1 in /usr/local/lib/python3.7/dist-packages (from newspaper3k) (3.2.5)\n",
            "Requirement already satisfied: lxml>=3.6.0 in /usr/local/lib/python3.7/dist-packages (from newspaper3k) (4.2.6)\n",
            "Collecting feedparser>=5.2.1\n",
            "\u001b[?25l  Downloading https://files.pythonhosted.org/packages/1c/21/faf1bac028662cc8adb2b5ef7a6f3999a765baa2835331df365289b0ca56/feedparser-6.0.2-py3-none-any.whl (80kB)\n",
            "\u001b[K     |████████████████████████████████| 81kB 5.9MB/s \n",
            "\u001b[?25hRequirement already satisfied: PyYAML>=3.11 in /usr/local/lib/python3.7/dist-packages (from newspaper3k) (3.13)\n",
            "Collecting tldextract>=2.0.1\n",
            "\u001b[?25l  Downloading https://files.pythonhosted.org/packages/7e/62/b6acd3129c5615b9860e670df07fd55b76175b63e6b7f68282c7cad38e9e/tldextract-3.1.0-py2.py3-none-any.whl (87kB)\n",
            "\u001b[K     |████████████████████████████████| 92kB 6.9MB/s \n",
            "\u001b[?25hRequirement already satisfied: Pillow>=3.3.0 in /usr/local/lib/python3.7/dist-packages (from newspaper3k) (7.0.0)\n",
            "Requirement already satisfied: six>=1.5 in /usr/local/lib/python3.7/dist-packages (from python-dateutil>=2.5.3->newspaper3k) (1.15.0)\n",
            "Requirement already satisfied: urllib3!=1.25.0,!=1.25.1,<1.26,>=1.21.1 in /usr/local/lib/python3.7/dist-packages (from requests>=2.10.0->newspaper3k) (1.24.3)\n",
            "Requirement already satisfied: certifi>=2017.4.17 in /usr/local/lib/python3.7/dist-packages (from requests>=2.10.0->newspaper3k) (2020.12.5)\n",
            "Requirement already satisfied: chardet<4,>=3.0.2 in /usr/local/lib/python3.7/dist-packages (from requests>=2.10.0->newspaper3k) (3.0.4)\n",
            "Requirement already satisfied: idna<3,>=2.5 in /usr/local/lib/python3.7/dist-packages (from requests>=2.10.0->newspaper3k) (2.10)\n",
            "Collecting sgmllib3k\n",
            "  Downloading https://files.pythonhosted.org/packages/9e/bd/3704a8c3e0942d711c1299ebf7b9091930adae6675d7c8f476a7ce48653c/sgmllib3k-1.0.0.tar.gz\n",
            "Collecting requests-file>=1.4\n",
            "  Downloading https://files.pythonhosted.org/packages/77/86/cdb5e8eaed90796aa83a6d9f75cfbd37af553c47a291cd47bc410ef9bdb2/requests_file-1.5.1-py2.py3-none-any.whl\n",
            "Requirement already satisfied: filelock>=3.0.8 in /usr/local/lib/python3.7/dist-packages (from tldextract>=2.0.1->newspaper3k) (3.0.12)\n",
            "Building wheels for collected packages: jieba3k, feedfinder2, tinysegmenter, sgmllib3k\n",
            "  Building wheel for jieba3k (setup.py) ... \u001b[?25l\u001b[?25hdone\n",
            "  Created wheel for jieba3k: filename=jieba3k-0.35.1-cp37-none-any.whl size=7398406 sha256=b5be10e3eed36c9d6b5c1343ef452cb2ae230d5e74b9af90a109ed19ea43c006\n",
            "  Stored in directory: /root/.cache/pip/wheels/83/15/9c/a3f1f67e7f7181170ad37d32e503c35da20627c013f438ed34\n",
            "  Building wheel for feedfinder2 (setup.py) ... \u001b[?25l\u001b[?25hdone\n",
            "  Created wheel for feedfinder2: filename=feedfinder2-0.0.4-cp37-none-any.whl size=3358 sha256=4070d0d66dac1577297d943f2fd802f3efa0ee179420af4692d4e0e276edffb3\n",
            "  Stored in directory: /root/.cache/pip/wheels/de/03/ca/778e3a7a627e3d98836cc890e7cb40c7575424cfd3340f40ed\n",
            "  Building wheel for tinysegmenter (setup.py) ... \u001b[?25l\u001b[?25hdone\n",
            "  Created wheel for tinysegmenter: filename=tinysegmenter-0.3-cp37-none-any.whl size=13538 sha256=f4b78e07f485c1a46b246e12f763dae428e63f3f312682cd63f013a86e52f515\n",
            "  Stored in directory: /root/.cache/pip/wheels/81/2b/43/a02ede72324dd40cdd7ca53aad718c7710628e91b8b0dc0f02\n",
            "  Building wheel for sgmllib3k (setup.py) ... \u001b[?25l\u001b[?25hdone\n",
            "  Created wheel for sgmllib3k: filename=sgmllib3k-1.0.0-cp37-none-any.whl size=6067 sha256=f8b08d5c9d009bf727a802363ccd754ddd900d83435b930e9bebc27d920cc4c4\n",
            "  Stored in directory: /root/.cache/pip/wheels/f1/80/5a/444ba08a550cdd241bd9baf8bae44be750efe370adb944506a\n",
            "Successfully built jieba3k feedfinder2 tinysegmenter sgmllib3k\n",
            "Installing collected packages: jieba3k, feedfinder2, tinysegmenter, cssselect, sgmllib3k, feedparser, requests-file, tldextract, newspaper3k\n",
            "Successfully installed cssselect-1.1.0 feedfinder2-0.0.4 feedparser-6.0.2 jieba3k-0.35.1 newspaper3k-0.2.8 requests-file-1.5.1 sgmllib3k-1.0.0 tinysegmenter-0.3 tldextract-3.1.0\n"
          ],
          "name": "stdout"
        }
      ]
    },
    {
      "cell_type": "markdown",
      "metadata": {
        "id": "ZZUC6oInHA1S"
      },
      "source": [
        "#Load the page\r\n",
        "from The New York Times"
      ]
    },
    {
      "cell_type": "code",
      "metadata": {
        "id": "9Qc7tglEA3w6"
      },
      "source": [
        "import newspaper\r\n",
        "news_paper = newspaper.build('https://www.nytimes.com/section/technology')"
      ],
      "execution_count": 2,
      "outputs": []
    },
    {
      "cell_type": "markdown",
      "metadata": {
        "id": "GnnIZRcHHLib"
      },
      "source": [
        "#Parse and save the data into json\r\n"
      ]
    },
    {
      "cell_type": "code",
      "metadata": {
        "colab": {
          "base_uri": "https://localhost:8080/"
        },
        "id": "RZfT8488A8gl",
        "outputId": "4291fdc1-78d2-4977-cab6-7d193d9516e7"
      },
      "source": [
        "import datetime\r\n",
        "from newspaper import fulltext\r\n",
        "from newspaper import Article\r\n",
        "news_json = []\r\n",
        "for article in news_paper.articles:\r\n",
        "  article.download()\r\n",
        "  article.parse()\r\n",
        "  date=article.publish_date\r\n",
        "  d1 = datetime.datetime(2021, 3, 11) \r\n",
        "  d2 = datetime.datetime(2021, 3, 12) \r\n",
        "  if date==d1 or date == d2:\r\n",
        "    title = article.title\r\n",
        "    authors = article.authors\r\n",
        "    a = Article(article.url)\r\n",
        "    a.download()\r\n",
        "    a.parse()\r\n",
        "    full = a.text\r\n",
        "    if full !='' and authors!=[]:\r\n",
        "      news_json.append({\r\n",
        "        \"date\": str(date),\r\n",
        "        \"title\": title,\r\n",
        "        \"full article\": full,\r\n",
        "        \"author\": authors\r\n",
        "    })\r\n",
        "news_json"
      ],
      "execution_count": 15,
      "outputs": [
        {
          "output_type": "execute_result",
          "data": {
            "text/plain": [
              "[{'author': ['Kellen Browning'],\n",
              "  'date': '2021-03-12 00:00:00',\n",
              "  'full article': 'Other health officials have defended the appointment systems, and the developers behind the software said the complaints about their products were overblown.\\n\\nTiffany Tate, PrepMod’s creator and the executive director of the Maryland Partnership for Prevention, said criticisms of her system largely stemmed from health providers’ lack of knowledge about how to use it, or from the constantly shifting needs of states.\\n\\n“The pandemic’s evolving, and we’ve got to be able to keep up with it,” she said. “We just have to be a very flexible platform.”\\n\\nDeloitte, whose software is used by nine states, said VAMS was originally intended for smaller groups at early stages of states’ vaccine rollouts, so the company was “responding quickly to meet their changing needs” and was updating the system to handle a greater load.\\n\\nHealth experts say multiple factors complicated the software rollout. In some cases, developers condensed work that would normally take years into weeks, leading to glitches. In addition, the varied approaches to determining eligibility in the dozens of localities using the software have made it difficult to develop a one-size-fits-all approach.\\n\\nSome states use more than half a dozen appointment scheduling systems, from tools used by federal, state and local agencies to the software employed by private hospitals and pharmacies to rudimentary solutions like SignUpGenius. Some sites do not support appointment scheduling at all, but allow people to browse databases to find available vaccines or get on wait lists. Often, the systems cannot communicate with one another.',\n",
              "  'title': 'Faulty Software Snarls Vaccine Sign-Ups'},\n",
              " {'author': ['Cecilia Kang', 'The New York Times'],\n",
              "  'date': '2021-03-12 00:00:00',\n",
              "  'full article': 'HBO Max Plans Global Expansion This briefing has ended. Follow our latest coverage of markets, business and the economy.\\n\\nHBO Max plans to expand globally and add an ad-supported version. A recut of “Justice League” by Zack Snyder is among the films available on HBO Max as AT&T looks to build out its streaming service. Credit... Warner Bros. Pictures HBO Max is going global. The new streaming platform, currently only available to U.S. subscribers, will launch in 61 other markets starting in June. The company also plans to launch an advertising-driven streaming service in the United States at the same time. The announcements came Friday as part of a broader presentation outlining a set of goals for AT&T, which owns HBO. The company hopes to reach between 120 million and 150 million total customers for HBO Max and its traditional HBO TV channel by the end of 2025, a more ambitious target compared with its previous goal of 75 million to 90 million. The company also expects between 67 million and 70 million customers by the end of 2021. It had 61 million as of the end of December, but the number of people actually watching HBO Max is much smaller. About 41.5 million customers are in the United States, and of that group about 17.2 million have HBO Max accounts. That suggests that of the company’s new subscriber target, not all of them will necessarily be streaming HBO Max. The company has a complicated setup around HBO Max. People can sign up for the service directly, and those who already pay for the premium cable channel through their cable or satellite provider also have access, but not everyone has set up their streaming account. The service is also offered for free or at a reduced price to AT&T’s wireless customers. The jump into international markets shows how aggressively AT&T needs to expand its streaming enterprise. The addition of an advertising-based service means the company sees an opportunity to capture the ad dollars that have started to move away from traditional television. It’s unclear if the ad-supported version will be free or whether it will only be available at a reduced price from HBO Max’s current $15 per month cost. Jason Kilar, the chief executive of WarnerMedia, the unit that manages HBO, said the service is expected to start making money after 2025. It should generate about $15 billion in sales by that year, he added. HBO Max has become a key part of AT&T’s overall strategy to keep and grow mobile customers, so losing money is less of an immediate concern if it helps AT&T retain its core wireless subscribers. Mr. Kilar emphasized HBO Max’s value to the phone business, citing that 25 percent of HBO Max customers have come via AT&T. He ended his presentation with a cliché from the Warner Bros. film archives: “It’s the beginning of a beautiful friendship.”\\n\\nMicrosoft takes aim at Google as it supports bill to give news publishers more leverage over Big Tech. Video transcript Back bars 0:00 / 1:25 - 0:00 transcript Microsoft Executive Says Tech Consolidation Threatens Journalism Brad Smith, Microsoft’s president, told Congress he supports the Journalism Competition and Protection Act, which empowers news publishers to collectively bargain with online platforms like Facebook and Google. I think that you all are on the right path. That’s why Microsoft is endorsing the Journalism Competition and Protection Act, the J.C.P.A., to give news organizations the ability to negotiate collectively, including with Microsoft, because as presently drafted, we will be subject to its terms. I hope that the subcommittee will continue its work to think more broadly about the fundamental lack of competition, especially in search and digital advertising, that are at the heart of not just the decline in journalism, but the decline and challenge in many sectors of the economy. What we’re finding is that the big publishers are not interested in negotiating collectively. The three largest news organizations in Australia are all negotiating separately. It is the small publishers that are negotiating collectively. If this bill is passed, that means that these news organizations would be able to negotiate collectively with us. I assume that they will negotiate effectively with us. It is far bigger than us. It is far bigger than technology. It is more important than any of the products that any of us produce today. And let’s hope that if a century from now people are not using iPhones or laptops or anything that we have today, journalism itself is still alive and well because our democracy depends on it. Brad Smith, Microsoft’s president, told Congress he supports the Journalism Competition and Protection Act, which empowers news publishers to collectively bargain with online platforms like Facebook and Google. Credit Credit... Kevin Lamarque/Reuters Lawmakers on Friday debated an antitrust bill that would give news publishers collective bargaining power with online platforms like Facebook and Google, putting the spotlight on a proposal aimed at chipping away at the power of Big Tech. At a hearing held by the House antitrust subcommittee, Microsoft’s president, Brad Smith, emerged as a leading industry voice in favor of the law. He took a divergent path from his tech counterparts, pointing to an imbalance in power between publishers and tech platforms. Newspaper ad revenue plummeted to $14.3 billion in 2018 from $49.4 billion in 2005, he said, while ad revenue at Google jumped to $116 billion from $6.1 billion. “Even though news helps fuel search engines, news organizations frequently are uncompensated or, at best, undercompensated for its use,” Mr. Smith said. “The problems that beset journalism today are caused in part by a fundamental lack of competition in the search and ad tech markets that are controlled by Google.” The hearing was the second in a series planned by the subcommittee to set the stage for the creation of stronger antitrust laws. In October, the subcommittee, led by Representative David Cicilline, Democrat of Rhode Island, released the results of a 16-month investigation into the power of Amazon, Apple, Facebook and Google. The report accused the companies of monopoly behavior. This week, the committee’s two top leaders, Mr. Cicilline and Representative Ken Buck, Republican of Colorado, introduced the Journalism and Competition Preservation Act. The bill aims to give smaller news publishers the ability to band together to bargain with online platforms for higher fees for distributing their content. The bill was also introduced in the Senate by Senator Amy Klobuchar, a Democrat of Minnesota and the chairwoman of that chamber’s antitrust subcommittee. Global concern is growing over the decline of local news organizations, which have become dependent on online platforms for distribution of their content. Australia recently proposed a law allowing news publishers to bargain with Google and Facebook, and lawmakers in Canada and Britain are considering similar steps. Mr. Cicilline said, “While I do not view this legislation as a substitute for more meaningful competition online — including structural remedies to address the underlying problems in the market — it is clear that we must do something in the short term to save trustworthy journalism before it is lost forever.” Google, though not a witness at the hearing, issued a statement in response to Mr. Smith’s planned testimony, defending its business practices and disparaging the motives of Microsoft, whose Bing search engine runs a very distant second place behind Google. “Unfortunately, as competition in these areas intensifies, they are reverting to their familiar playbook of attacking rivals and lobbying for regulations that benefit their own interests,” wrote Kent Walker, the senior vice president of policy for Google.\\n\\nAdvertisement Continue reading the main story\\n\\nDecrying Amazon’s ‘woke’ values, Marco Rubio comes out in support of a union drive. Union members canvassing at the Amazon fulfillment center in Bessemer, Ala. Credit... Lynsey Weatherspoon for The New York Times Senator Marco Rubio of Florida became the most prominent Republican leader to weigh in on the unionization drive at the Amazon warehouse in Bessemer, Ala., with a surprising endorsement of the organizing effort on Friday. “The days of conservatives being taken for granted by the business community are over,” Mr. Rubio wrote in an opinion piece published in USA Today. “Here’s my standard: When the conflict is between working Americans and a company whose leadership has decided to wage culture war against working-class values, the choice is easy — I support the workers,” he continues. “And that’s why I stand with those at Amazon’s Bessemer warehouse today.” More than 5,800 workers at the Amazon warehouse, outside Birmingham, are voting by mail this month to decide whether to join the Retail, Wholesale and Department Store Union. Last week, President Biden posted a video message on Twitter referring to the vote in Alabama and espousing on the importance of unions in helping build the middle class, while excoriating employers who interfere in unionization efforts. He did not mention Amazon by name, but his remarks followed reports that the online retailer was engaged in aggressive anti-union tactics. “We welcome support from all quarters,” the union’s president, Stuart Appelbaum, said in a statement. “Senator Rubio’s support demonstrates that the best way for working people to achieve dignity and respect in the workplace is through unionization. This should not be a partisan issue.” The unionization drive has also continued to attract backing from Democrats. A spokesman for Speaker Nancy Pelosi said in an email on Friday that she supported the workers in their effort. Mr. Rubio, who recalls marching in a union picket line with his father, a hotel bartender, accused Amazon of expressing “woke” values, while bowing to Chinese censorship. And he warned the company not to expect Republicans to come to its rescue and condone its anti-union efforts. “Its workers are right to suspect that its management doesn’t have their best interests in mind,” Mr. Rubio wrote. “Wealthy woke C.E.O.s instead view them as a cog in a machine that consistently prioritizes global profit margins and stoking cheap culture wars. The company’s workers deserve better.” Michael Corkery and\\n\\nAnt Group’s C.E.O. resigns, months after China halted the fintech giant’s I.P.O. Simon Hu, the chief executive of Ant Group, at a conference in Shanghai in September. Mr. Hu asked to resign for personal reasons, the company said. Credit... Cheng Leng/Reuters The chief executive of Ant Group, the Chinese internet finance giant, has stepped down, the company said on Friday, a move that came in the middle of a business overhaul meant to address regulators’ concerns about its rapid growth. Ant said its chief executive, Simon Hu, had asked to resign for personal reasons. The company’s chairman, Eric Jing, was named as Mr. Hu’s replacement, effective immediately. Mr. Jing, who will remain Ant’s chairman, previously served as chief executive until December 2019, when Mr. Hu took over the post. Hundreds of millions of people in China use Ant’s Alipay app to make everyday payments, sock away savings and shop on credit. Ant, which was spun out of the e-commerce giant Alibaba, has faced rising scrutiny from China’s government, and officials scuttled the company’s plans last year to go public in Shanghai and Hong Kong. The company had been preparing to raise more than $34 billion by listing its shares in November, in what would have been the largest initial public offering on record. Instead, days before Ant’s shares were scheduled to begin trading, Chinese officials summoned company executives — namely, Mr. Hu, Mr. Jing and Jack Ma, Alibaba’s co-founder — to discuss regulation. The I.P.O. was halted soon after, and financial watchdogs said Ant had taken advantage of gaps in China’s regulatory system and ordered it to revamp its business. Mr. Hu joined Alibaba in 2005 and was president of its cloud division from 2014 to 2018. He joined Ant as president that year before becoming chief executive in 2019. Mr. Jing, also an Alibaba veteran, has been Ant’s executive chairman since April 2018. They are both members of the Alibaba Partnership, the company’s club of elite management partners.\\n\\nTwo Ford family members join the automaker’s board. Ford Motor said two members of the Ford family have been nominated to join the automaker’s board of directors, replacing one family member who is retiring and an independent director who has chosen not to seek re-election. Alexandra Ford English, 33, daughter of Ford’s chairman, Bill Ford, and Henry Ford III, 40, son of Edsel B. Ford II, a current board member, are expected to be elected to the board by shareholders at the company’s annual meeting on May 13. Both are great-great-grandchildren of Henry Ford, who founded the company in 1903. Ms. English is a director in corporate strategy at the company. Henry Ford III is a director in investor relations. They will replace Edsel Ford II, 72, who is retiring after being on the board since 1988, and John C. Lechleiter, 67, who joined Ford’s board in 2013 and is a former president of Eli Lilly, the pharmaceutical company. Although the Ford family only owns a small portion of the company’s common stock, it retains effective control of the automaker though Class B shares with super-voting rights.\\n\\nAdvertisement Continue reading the main story\\n\\nShares of Coupang, the Amazon of South Korea, drift after its I.P.O. A banner for the South Korean retailer Coupang hung in front of the New York Stock Exchange on Thursday, the day the company’s shares began trading. Credit... Courtney Crow/New York Stock Exchange, via Associated Press The stock of Coupang, a start-up in South Korea that is sometimes called the Amazon of South Korea, drifted after trading publicly for the first time in New York on Thursday. Coupang — the company’s name is a mix of the English word “coupon” and “pang,” the Korean sound for hitting the jackpot — was founded by a Harvard Business School dropout and has shaken up shopping in South Korea, an industry long dominated by huge, button-down conglomerates. The initial public offering raised $4.6 billion and valued Coupang at about $85 billion, the second-largest American tally for an Asian company after Alibaba Group of China in 2014. Coupang’s shares rose 6.6 percent on Friday as trading began but ended the day down 2 percent. Coupang is South Korea’s biggest e-commerce retailer, its status further cemented by people stuck at home during the pandemic and those in the country who crave faster delivery. In a country where people are obsessed with “ppalli ppalli,” or getting things done quickly, Coupang has become a household name by offering “next-day” and even “same-day” and “dawn” delivery of groceries and millions of other items at no extra charge.\\n\\nLordstown Motors exaggerated interest in its electric vehicles, a short seller claims. The electric Endurance pickup truck made by Lordstown Motors. An investment firm claimed the company had inflated the number of orders for its pickup trucks. Credit... Tony Dejak/Associated Press Shares of Lordstown Motors, an electric-vehicle start-up, fell more than 19 percent on Friday after an investment firm claimed the company had inflated the number of orders for its pickup trucks and overstated its technological and production capabilities. The revelations are the latest to call into question the promises made by an electric vehicle company that has gone public by merging with a shell company that has a stock market listing, cash and no operating business. Lordstown, which gained prominence by buying a former General Motors factory in Ohio to make electric trucks for commercial users, completed its merger with a shell company and started trading on the stock market in October 2020. In a lengthy post on its website, the investment firm, Hindenburg Research, said that Lordstown’s claim of having 100,000 “pre-orders” for its electric pickup truck included tens of thousands from small companies that do not operate fleets, and others who merely agreed to consider buying trucks but made no commitment to do so. Hindenburg said it had bet against Lordstown’s stock by selling its shares short, a maneuver used by some professional investors when they believe a stock is overvalued and poised to fall. “Our conversations with former employees, business partners and an extensive document review show that the company’s orders are largely fictitious and used as a prop to raise capital and confer legitimacy,” Hindenburg said. A Lordstown spokesman said, “We will be sharing a full and thorough statement in the coming days, and when we do we will absolutely be refuting the Hindenburg Research report.” One company that Lordstown said was prepared to buy 14,000 trucks, E Squared Energy, appears to be based in an apartment in Texas, have two employees and owns no vehicles. Hindenburg also unearthed a police report that showed a Lordstown prototype caught fire and burned to a shell during a test drive in January in Michigan. On Friday morning, Lordstown shares were trading at just over $14 a share, down from their close the previous day of $17.71. Former President Donald J. Trump hailed Lordstown in 2018 when it agreed to buy a plant in Lordstown, Ohio, that General Motors had closed, and former Vice President Mike Pence participated in an unveiling of the company’s truck in June. In September, Mr. Trump hosted Lordstown’s chief executive, Steve Burns, at the White House and praised the company’s technology. Hindenburg Research gained prominence last year when it released a report saying Nikola, an electric truck start-up, and its executive chairman, Trevor Milton, had mislead investors and exaggerated the capabilities of that company’s technology. The revelations resulted in Mr. Milton’s departure from Nikola, and prompted General Motors to scale back a partnership with the company. Nikola denied some of Hindenburg’s claims but recently acknowledged to the Securities and Exchange Commission that Mr. Milton had made statements that were “inaccurate in whole or in part.”\\n\\nTarget gives up some Minneapolis office space, moving to partial work-from-home model. Target will cease operations in the City Center building in downtown Minneapolis, relocating 3,500 employees. Credit... Lucy Nicholson/Reuters Target, a fixture in downtown Minneapolis, is giving up space in a large office building there, becoming the latest company to permanently allow its staff to spend more time working from home. The retailer told employees it would cease operations in the City Center building in downtown Minneapolis and that the 3,500 employees working there would relocate to other nearby offices, while also working from home part of the time. More than a quarter of Target’s corporate employees in the Minneapolis area work in the City Center building. “This change is driven by Target’s longer-term headquarters environment that will include a hybrid model of remote and on-site work, allowing for flexibility and collaboration and ultimately, requiring less space,” the company said Thursday. Office landlords across the country have been struggling to retain tenants as the pandemic drags on and companies realize their staff has been able to work effectively in a remote setting. Empty office buildings are putting a squeeze on city budgets, which are heavily reliant on property taxes. Salesforce, the software company based in San Francisco, adopted a flex model in which most of its employees would be able to come into the office one to three days a week. In a bet that more people would work from home after the pandemic ends, Salesforce acquired the workplace software company Slack in December. After the move, Target said it would still occupy about three million square feet of office space in the Minneapolis area. “It’s not easy to say goodbye to City Center, but the Twin Cities is still our home after all these years,’’ Target’s chief human resources officer, Melissa Kremer, said in an email to employees.\\n\\nAdvertisement Continue reading the main story\\n\\nLinkedIn is pausing registrations for new members in China while it addresses legal concerns. Microsoft offices in Beijing. Microsoft owns LinkedIn, which has operated in China by conforming to the authoritarian government’s tight restrictions on the internet. Credit... Wu Hong/EPA, via Shutterstock LinkedIn has stopped allowing people in China to sign up for new member accounts while it works to ensure its service in the country remains in compliance with local law, the company said this week, without specifying what prompted the move. A company representative declined to comment further. Unlike other global internet mainstays such as Facebook and Google, LinkedIn offers a version of its service in China, which it is able to do by hewing closely to the authoritarian government’s tight controls on cyberspace. It censors its Chinese users in line with official mandates. It limits certain tools, such as the ability to create or join groups. It has given partial ownership of its Chinese operation to local investors. In 2017, the company blocked individuals, but not companies, from advertising job openings on its site in China after it fell afoul of government rules requiring it to verify the identities of the people who post job listings. The backdrop to the suspension of new user registrations is not clear. The government has previously blocked internet services that it believes to be breaking the law. In 2019, Microsoft’s Bing search engine was briefly inaccessible in China for unclear reasons. Microsoft also owns LinkedIn.\\n\\nHere’s what happened in the markets today. By: Ella Koeze · Data delayed at least 15 minutes · Source: FactSet United States The S&P 500 inched further into record territory on Thursday, rising 0.1 percent. The index gained 2.6 percent this week, its best weekly performance since early February.\\n\\nThe Nasdaq composite fell 0.6 percent, while the Dow Jones industrial average rose 0.9 percent.\\n\\nThe yield on 10-year Treasury notes jumped as much as 10 basis points, or 0.1 percentage points, to 1.64 percent, its highest level in more than a year.\\n\\nHigher interest rates and tighter central bank policies are now considered to be the single biggest threat to so-called risk assets, mainly stocks, according to a Bank of America survey of fund managers. Investors have grown concerned that the stimulus bill and economic rebound will trigger inflation, prompting central banks to pull back on stimulus measures. Europe The Stoxx Europe 600 index dropped 0.3 percent, while the FTSE 100 index in Britain rose 0.4 percent.\\n\\nData published on Friday showed that the British economy declined 2.9 percent in January as the country entered its third lockdown, shut schools and left the European Union single market and customs union. Separate data for the same month showed the largest monthly drop in trade since records began in 1997. Exports to the European Union dropped 40 percent and imports fell nearly 30 percent. Some of the fall is because of stockpiling at the end of last year, but many businesses struggled to keep trading as they dealt with new customs requirements.\\n\\nHere’s how the stimulus bill will help the middle class. Shoppers wait in line at an outlet mall in Southaven, Miss. on Saturday. Many Americans are set to benefit from the new economic relief plan. Credit... Rory Doyle for The New York Times The economic relief plan that is headed to President Biden’s desk has been billed as the United States’ most ambitious antipoverty initiative in a generation. But inside the $1.9 trillion package, there are plenty of perks for the middle class, too. An analysis by the Tax Policy Center published this week estimated that middle-income families — those making $51,000 to $91,000 per year — would see their after-tax income rise by 5.5 percent as a result of the tax changes and stimulus payments in the legislation. This is about twice what that income group received as a result of the 2017 Tax Cuts and Jobs Act. Here are some of the ways the bill will help the middle class. Direct checks Americans will receive stimulus checks of up to $1,400 per person, including dependents. The size of the payments are scaled down for individuals making more than $75,000 and married couples earning more than $150,000. And they are cut off for individuals making $80,000 or more and couples earning more than $160,000. Those thresholds are lower than in the previous relief bills, but they will still be one of the biggest benefits enjoyed by those who are solidly in the middle class. Tax credits for parents The most significant change is to the child tax credit, which will be increased to up to $3,600 for each child under 6, from $2,000 per child. The credit, which is refundable for people with low tax bills, is $3,000 per child for children ages 6 to 17. The legislation also bolsters the tax credits that parents receive to subsidize the cost of child care this year. The current credit is worth 20 to 35 percent of eligible expenses, with a maximum value of $2,100 for two or more qualifying individuals. The stimulus bill increases that amount to $4,000 for one qualifying individual or $8,000 for two or more. Cheaper health insurance After four years of being on life support, the Affordable Care Act is expanding, a development that will largely reward middle-income individuals and families, since those on the lower end of the income spectrum generally qualify for Medicaid. Because the relief legislation expands the subsidies for buying health insurance, a 64-year-old earning $58,000 would see monthly payments decline to $412 from $1,075 under current law, according to the Congressional Budget Office. A rescue for pensioners One of the more contentious provisions in the legislation is the $86 billion allotted to fixing failing multiemployer pensions. The money is a taxpayer bailout for about 185 union pension plans that are so close to collapse that without the rescue, more than a million retired truck drivers, retail clerks, builders and others could be forced to forgo retirement income. The legislation gives the weakest plans enough money to pay hundreds of thousands of retirees their full pensions for the next 30 years.\\n\\nAdvertisement Continue reading the main story\\n\\nThe oil industry is avoiding the drill-and-pump cycle when oil prices rise. A drill ship contracted by ExxonMobil off the coast of Guayana in 2018. The temptation to produce more when prices rise has not disappeared completely, especially for countries like Guyana that want to pump as much oil as they can while oil is still valuable. Credit... Christopher Gregory for The New York Times Even as they are making more money thanks to the higher oil and gasoline prices, industry executives pledged at a recent energy conference that they would not expand production significantly. They also promised to pay down debt and hand out more of their profits to shareholders in the form of dividends. “I think the worst thing that could happen right now is U.S. producers start growing rapidly again,” Ryan Lance, chairman and chief executive of ConocoPhillips, said at the IHS CERAweek conference. Scott Sheffield, chief executive of Pioneer Natural Resources, a major Texas producer, predicted that American production would remain flat at 11 million barrels a day this year, compared with 12.8 million barrels immediately before the pandemic took hold. Even the Organization of the Petroleum Exporting Countries and allied producers like Russia surprised many analysts this month by keeping several million barrels of oil off the market, The New York Times’s Clifford Krauss reports. OPEC’s 13 members and nine partners are pumping roughly 780,000 barrels of oil a day less than at the beginning of the year even though prices have risen by 30 percent in recent months. Chevron said this week that it would spend $14 billion to $16 billion a year on capital projects and exploration through 2025. That is several billion dollars less than the company spent in the years before the pandemic, as the company focuses on producing the lowest-cost barrels. “So far, these guys are refusing to take the bait,” said Raoul LeBlanc, a vice president at IHS Markit, a research and consulting firm. But he added that the investment decisions of American executives could change if oil prices climb much higher. “It’s far, far too early to say that this discipline will last.”',\n",
              "  'title': 'HBO Max Plans Global Expansion'},\n",
              " {'author': ['Shira Ovide'],\n",
              "  'date': '2021-03-12 00:00:00',\n",
              "  'full article': 'This article is part of the On Tech newsletter. You can sign up here to receive it weekdays.\\n\\nThe pandemic, which officially hit the one-year mark on Thursday, showed how much we need technology — but also that it’s probably not the solution to our biggest challenges.\\n\\nHere are three things that I’ve learned in the past 12 months: Technology showed its utility by helping people and businesses manage through a crisis. Our increasingly digital lives have also created new problems that will be hard to fix. And the most important things have nothing to do with technology.\\n\\nLet’s talk about each of these.\\n\\nFirst, I am grateful that technology helped many millions of us muddle through work, school and family life. It also kept us informed when little seemed to make sense.\\n\\nI’m glad that my apartment was able to become On Tech’s headquarters. I entertained myself with digital books and streaming videos, and I stayed in touch through screens with friends and family. I chose to shop at local businesses based on whether I could place online orders and reserve a time for pick up. Technology has helped many of us retain shreds of normalcy in a pandemic.',\n",
              "  'title': 'Our Virtual Pandemic Year'},\n",
              " {'author': ['Holly Williams'],\n",
              "  'date': '2021-03-12 00:00:00',\n",
              "  'full article': '“A Midsummer Night’s Dream” may be one of Shakespeare’s most performed plays — but its latest version from the Royal Shakespeare Company will be unlike any seen before. Titled “Dream,” the 50-minute streamed production fuses live performance with motion-capture technology, 3-D graphics, and interactive gaming techniques that let the audience remotely guide Puck through a virtual forest.\\n\\nAs live theater sprinkled with some seriously high-tech fairy dust, “Dream” promises to bring “a most rare vision” of the play to our screens, to borrow a line from Shakespeare. It will be available to watch online once a day at various times from Friday through March 20.\\n\\n“It’s part of our ongoing engagement with this brave new world,” said Gregory Doran, the Royal Shakespeare Company’s artistic director. In 2016, the theater’s production of “The Tempest” used live motion-capture technology to create a 3-D digital avatar that was projected above the stage.\\n\\nThe difference this time is that everything in the play — the performers and their surroundings — will be rendered virtually.',\n",
              "  'title': '‘A Midsummer Night’s Dream,’ Sprinkled With High-Tech Fairy Dust'},\n",
              " {'author': ['Josie Thaddeus-Johns'],\n",
              "  'date': '2021-03-11 00:00:00',\n",
              "  'full article': 'The artist Mike Winkelmann, also known as Beeple, has just sold an NFT at a record-breaking $69.3 million, the third-highest price achieved by a living artist. The sale, at Christie’s, for the purely digital work was the strongest indication yet that NFTs, or “nonfungible tokens,” have taken the art market by storm, making the leap from specialist websites to premier auction houses. Beeple, a newcomer to the fine-art world who first heard about NFTs five months ago, is the most high-profile artist to profit off the huge boom in sales of these much hyped but poorly understood commodities.\\n\\nIf you’ve heard about them and want to know what the fuss is about, here’s a primer.\\n\\nWhat is a “nonfungible token,” or NFT?\\n\\nAn NFT is an asset verified using blockchain technology, in which a network of computers records transactions and gives buyers proof of authenticity and ownership. The current boom is mostly for digital assets, including images, GIFs, songs or videos. Most importantly, NFTs make digital artworks unique, and therefore sellable.\\n\\nNow, artists, musicians, influencers and sports franchises are using NFTs to monetize digital goods that have previously been cheap or free. The technology also responds to the art world’s need for authentication and provenance in an increasingly digital world, permanently linking a digital file to its creator.',\n",
              "  'title': 'What Are NFTs, Anyway? One Just Sold for $69 Million.'},\n",
              " {'author': ['Shira Ovide'],\n",
              "  'date': '2021-03-11 00:00:00',\n",
              "  'full article': 'This article is part of the On Tech newsletter. You can sign up here to receive it weekdays.\\n\\nPeople who work in technology are often incredibly smart. But that doesn’t necessarily make them accurate forecasters of human and social behavior.\\n\\nThis week, Airbnb’s chief executive said that he thought more people would hop between multiple homes when the pandemic ends. Mark Zuckerberg talked about his vision of people using goggles that read their minds. A co-founder of Stripe, the digital finance start-up, spoke about a range of things, including worker productivity metrics and the need for improved medical technology.\\n\\nThese were thought-provoking ideas, and successful tech executives have been right an awful lot.\\n\\nBut I am asking for a little more humility from technologists and a little more skepticism from the rest of us. Being really smart and overseeing products used by millions of people doesn’t make tech executives oracles. (That’s true even for the tech company named Oracle.)\\n\\nAs tech has become more enmeshed in our lives and the economy — and as tech founders have become red-carpet-worthy celebrities — people want to know what technologists think about … everything: the future of cities, education, health care, jobs and the environment. It makes sense. I want to hear what they think, too.',\n",
              "  'title': 'Tech Executives Aren’t Fortune Tellers'},\n",
              " {'author': ['Raymond Zhong'],\n",
              "  'date': '2021-03-11 00:00:00',\n",
              "  'full article': 'People in China marveled at the way Mr. Musk handled the country’s hard-nosed authorities. They have been more critical of the ways he has sometimes treated his own workers. He lashed out last year at California health officials who demanded that a Tesla factory there remain closed out of coronavirus concerns. The company has also come under scrutiny for workplace injuries and racial discrimination.\\n\\n“He is a real dreamer and creator, yet he is also a coldblooded, self-absorbed megalomaniac,” Hong Bo, a longtime tech commentator in China who writes under the name Keso, said of Mr. Musk. “I admire his courage in breaking with outdated conventions, and yet I intensely dislike his trampling on the bottom lines of humanity.”\\n\\nMr. Musk and Tesla did not respond to emails requesting comment.\\n\\nThe frustration with Big Tech is part of a wider malaise in China. For many young people, decades of breakneck economic growth seem to have resulted in only fiercer competition for opportunities, less stability and less say over the direction of their lives.\\n\\nOn the Chinese internet, the term that has captured the mood is “involution,” previously used by anthropologists to describe agrarian societies that grew in size or complexity without becoming more advanced or productive.\\n\\nThe feeling among young Chinese people that they are fighting harder for a slimmer chance at material gain is leading them to hope to “reorganize life in a different way,” said Biao Xiang, who studies social change in China and is director of the Max Planck Institute for Social Anthropology in Germany.',\n",
              "  'title': 'China’s Jaded Techies Find a Hero in Elon Musk'},\n",
              " {'author': ['Raymond Zhong'],\n",
              "  'date': '2021-03-12 00:00:00',\n",
              "  'full article': '“也只有马斯克这样的超人，有能力踏过无数的平庸，走向广袤的无垠，去看看宇宙的绚丽，”Moonshake写道。\\n\\n同帖的另一位用户表示，他给儿子取名Elon，以表达自己的钦佩之情。该用户没有回复寻求进一步置评的消息。\\n\\n“Occupy Wall Street（占领华尔街运动）是不能在中国被模仿的，”上海企业家兼投资者阎晗说。要做到这一点，“因为你要go on the street（上街），”他说。购买抗议股票更安全。\\n\\n上海企业家兼投资者阎晗说，购买马斯克支持的抗议股票比上街抗议更安全。 The New York Times\\n\\n中国许多科技工作者对自己的行业感到沮丧，他们觉得这个行业不再有真正的发明或创新。在马斯克去建造未来式汽车、开拓宇宙的同时，他们看到了自己这一代中最聪明的人在设计手机游戏，研究如何在社交媒体上投放更多广告，炒作房地产。\\n\\n“中国没有硅谷疯子”，”阎晗说。他表示，科技公司的老板们“变成了一个纸板”，投资者不会去碰那些看起来很“crazy”（疯狂）的想法。',\n",
              "  'title': '中国人为什么迷恋伊隆·马斯克？'},\n",
              " {'author': ['Raymond Zhong'],\n",
              "  'date': '2021-03-12 00:00:00',\n",
              "  'full article': '「也只有馬斯克這樣的超人，有能力踏過無數的平庸，走向廣袤的無垠，去看看宇宙的絢麗，」Moonshake寫道。\\n\\n同帖的另一位用戶表示，他給兒子取名Elon，以表達自己的欽佩之情。該用戶沒有回覆尋求進一步置評的消息。\\n\\n「Occupy Wall Street（佔領華爾街運動）是不能在中國被模仿的，」上海企業家兼投資者閻晗說。要做到這一點，「因為你要go on the street（上街），」他說。購買抗議股票更安全。\\n\\n上海企業家兼投資者閻晗說，購買馬斯克支持的抗議股票比上街抗議更安全。 The New York Times\\n\\n中國許多科技工作者對自己的行業感到沮喪，他們覺得這個行業不再有真正的發明或創新。在馬斯克去建造未來式汽車、開拓宇宙的同時，他們看到了自己這一代中最聰明的人在設計手機遊戲，研究如何在社群媒體上投放更多廣告，炒作房地產。\\n\\n「中國沒有矽谷瘋子」，」閻晗說。他表示，科技公司的老闆們「變成了一個紙板」，投資者不會去碰那些看起來很「crazy」（瘋狂）的想法。',\n",
              "  'title': '中國人為什麼迷戀伊隆·馬斯克？'},\n",
              " {'author': ['David E. Sanger'],\n",
              "  'date': '2021-03-12 00:00:00',\n",
              "  'full article': '但拜登周四释放的讯息集中在这样的思想上：这个国家最终确实在一项共同事业中走到了一起——通过疫苗返回常态之路——从中可能会闪现团结的曙光；这个仍然存在分歧的国家在成百上千万次的疫苗注射中寻求安慰。拜登在演讲中提到了两个充满希望的日子：一个是7月4日，届时美国人的生活可能会变得有点像曾经的样子；另一个是5月1日，届时美国所有成年人都将有资格接种疫苗。\\n\\n去年3月，一名急救人员在新泽西州帕特森与一名疑似新冠病毒患者的亲属交谈。大流行迫使美国人了解这个国家有多么脆弱，大多数人从未想到过这一点。 Chang W. Lee/The New York Times\\n\\n哈佛大学历史学家吉尔·莱波雷(Jill Lepore)的《真理的史诗》(These Truths)一书追踪了自发现新大陆以来美国的科技与社会动态变化。她想知道，美国人是否会下意识地觉得新的一年是从3月下旬开始的，就像英国及其殖民地在1752年更改历法之前那样。“或者是从你接种疫苗的那一天开始，”她说。\"或者是从我们有足够多的人接种疫苗的那一天开始。\"\\n\\n对拜登来说，问题是他何时能够从他所称的大流行“救援”阶段，转向大流行后的“复苏”阶段。总统在周四的演讲中明确表示，救援仍在进行中。\\n\\n他的幕僚长罗恩·克莱恩(Ron Klain)在接受采访时说，拜登的目标是“安排这次救援的下一步工作，还有，既然我们已经通过了这项法案，还需要安排好未来几个月里该怎样做才能让这个国家重新走向更正常的生活方式”。\\n\\n拜登的直觉告诉他，过早宣布复苏是有危险的。这意味着各州可能会效仿得克萨斯，取消对戴口罩的要求，过快开放餐馆和酒吧，导致疫情重新抬头的危险——拜登称之为“尼安德特人式的思维”。',\n",
              "  'title': '这可能是美国历史上最重要的一年，人们学到了什么？'},\n",
              " {'author': ['Keith Bradsher 储百亮'],\n",
              "  'date': '2021-03-12 00:00:00',\n",
              "  'full article': '北京——周四，中国批准了一项对香港选举制度进行重大改革的决定，这很可能会禁止许多亲民主政治人士竞选公职，从而巩固北京对香港的控制。\\n\\n中国共产党控制的立法机构全国人民代表大会几乎全票通过了这项决定，赋予对北京忠诚的人更多权力，来选择香港地方领导人和立法机构成员。这项决定以涉及范围广泛的港区国安法为基础，在香港发生了持续数月的抗议活动后，中央政府去年将该法强加给香港，当局已使用它来镇压这个英国前殖民地的反对派。\\n\\n国务院总理李克强在年度新闻发布会上说，需要通过新立法来确保让“爱国者治港”。但批评人士认为，新的选举制度将全面摧毁香港在1997年回归中国后享有的本来就有限的民主。\\n\\n\\n\\n以下是我们对选举制度改革的了解。\\n\\n\\n\\n香港现任领导人林郑月娥有资格竞选连任，但她尚未表示是否会这样做。 Lam Yik Fei for The New York Times\\n\\n北京将在谁领导香港的问题上有更大的话语权。\\n\\n\\n\\n直到现在，香港行政长官都是通过一个由北京的盟友主导的1200人选举委员会产生，让中央得以挑选其信任的领导人。',\n",
              "  'title': '人大通过香港选举制度改革，这意味着什么？'},\n",
              " {'author': ['Winnie Hu Anjali Tsui Melissa Guerrero'],\n",
              "  'date': '2021-03-11 00:00:00',\n",
              "  'full article': '金丰是属于大家的。\\n\\n曼哈顿华埠中心的这座红金两色的宽敞酒楼，是几代亚裔家庭举办婚礼、生日和毕业酒宴的地方。商界领袖在这里开工作午餐会。移民们来到这里会想起故国的食物和生活。游客们也在这里了解到中国点心现点现取的点餐传统。\\n\\n2019年，约兰达·张（Yolanda Zhang，音）来到纽约不久，也找到了这里。“金丰是首选的地标，”现年24岁、在中国长大的社区组织者约兰达说。“它已经存在很久了，是华埠社会结构的中心。”\\n\\n热闹的人群、共享的餐桌和菜肴以及公共精神，让金丰如此特别。然而，正是同样的东西，让它更容易受到一种以亲密人际接触为传播方式的病毒影响。由于对新冠病毒的恐惧和社交距离限制，每周接待一万名顾客的酒楼已经空无一人。开业28年后，在一个周日，它永久关闭了。\\n\\n在疫情暴发之前，金丰800座的宴会厅里挤满了食客，享用着热气腾腾的叉烧包、排骨和虾饺。 James Estrin/The New York Times\\n\\n金丰的关闭令人痛心，即使在这座城市里，成千上万的餐馆、酒吧和夜总会在疫情期间永久关闭、超过14万个工作岗位已经流失。\\n\\n“空荡荡的金丰好像在华埠中间留下了一个陨石坑，”行业组织纽约酒店联盟(New York City Hospitality Alliance)的执行董事安德鲁·里吉(Andrew Rigie)说。',\n",
              "  'title': '“一个纽约地标的终结”：唐人街传奇金丰酒楼闭店'},\n",
              " {'author': ['Michael Crowley'],\n",
              "  'date': '2021-03-11 00:00:00',\n",
              "  'full article': '华盛顿——国务卿安东尼·J·布林肯(Antony J. Blinken)和拜登总统的国家安全顾问杰克·沙利文(Jake Sullivan)将在下周与两名中国政府高级官员会晤，这是拜登政府与外国主要竞争对手的首次面对面外交接触。\\n\\n国务院发言人在周三的声明中表示，布林肯和沙利文将于下周四在安克雷奇会见中国外交部长王毅及最高外交官杨洁篪。\\n\\n会议将在下周布林肯和国防部长劳埃德·J·奥斯丁三世(Lloyd J. Austin III)访问日本和韩国之后进行，这两个美国核心盟友与中国关系紧张，预计布林肯在跟北京会晤之前将与两国进行磋商。\\n\\n白宫新闻秘书珍·萨基(Jen Psaki)表示：“本届政府与中国官员的第一次会晤在美国的土地上举行，而且是在我们与亚洲和欧洲的合作伙伴及盟友会晤并进行了密切磋商之后，这对我们来说非常重要。”',\n",
              "  'title': '中美最高级别外交官将举行会晤，这释放了何种信号？'},\n",
              " {'author': ['Steven Lee Myers'],\n",
              "  'date': '2021-03-11 00:00:00',\n",
              "  'full article': '中国和俄罗斯达成协议，将在月球表面或月球轨道上共建一个科研站，为一场新的太空竞赛奠定了基础。\\n\\n中国和俄罗斯本周二的联合声明可能会重塑太空探索的地缘政治，在月球科学探索和潜在的商业开发方面重启相互竞争的项目和目标。不过，这次的主要竞争方将是美国和中国，俄罗斯只是个配角。\\n\\n',\n",
              "  'title': '中俄将合建月球科研站，开启太空竞争新时代'},\n",
              " {'author': ['Motoko Rich Makiko Inoue'],\n",
              "  'date': '2021-03-11 00:00:00',\n",
              "  'full article': '津川里奈（Rina Tsugawa，音）回忆起她在日本东北部的稻田里度过的美好童年，她和姐妹骑车在村里的街头闲逛，有时候猴子会从山上跑下来，邻居们会拿出糖果，给跑到家里玩的姐妹吃。\\n\\n此后的几年里，许多同乡都跑去东京和其他城市找工作去了，这种外流现象在日本的农村地区很常见，但福岛的灾难起到了推波助澜的作用。津川有不一样的打算。本月从一所护理学校毕业后，她还是想回到老家，看护那些小时候帮助照顾过她的老年人。\\n\\n“在我们小时候，他们给了我们很多，”22岁的津川说道。“我想帮助老年人健康长寿。”\\n\\n津川的老家杉山村。自1950年以来，周边城镇西会津町流失了大约三分之二的人口。 Noriko Hayashi for The New York Times\\n\\n在福岛，进行中的核清洁工作与振兴该县的努力是在另一场灾难的背景下展开的：迅速老龄化和人口下降使全国各地的城镇空心化，加剧了该地区的巨大挑战。\\n\\n自2011年以来，福岛人口减少了10%，日本全国总人口减少了2%。65岁以上的居民占福岛人口的近三分之一，全国的这一比例约为29%。',\n",
              "  'title': '震后十年，这位护士也许意味着福岛的希望'},\n",
              " {'author': ['Russell Goldman'],\n",
              "  'date': '2021-03-12 00:00:00',\n",
              "  'full article': '但还有15位居民拒绝放弃，他们誓言要重建气仙。自2011年以来，《纽约时报》摄影师益池博子(Hiroko Masuike，音)每年两次造访这个村庄，记录下幸存者们几乎注定失败的重建使命。\\n\\n“我们的祖先一千年前就生活在这个村子里，”87岁的佐藤尚志(Naoshi Sato，音)说。他是一名伐木工和农民，儿子在海啸中丧生。“那时候也有灾难。每次人们都留下来了。他们重建完留下，重建完留下。我觉得有义务将祖先开辟的家园延续下去。我不想失去我的家乡。”\\n\\n包括佐藤在内，许多留下的人在没有电和自来水的情况下生活了好几个月。佐藤在他家臭气熏天的废墟中露宿了一年时间。十年来，他一直梦想着气仙的重生。\\n\\n2011年4月。地震发生一个月后，日本气仙的伐木工佐藤尚志为留下的邻居们打气。\\n\\n2011年4月。村子里550栋房屋中只有两栋幸存。\\n\\n2011年4月。地震后的几个月里，15名幸存的村民生活在没有电和自来水的房屋废墟中。\\n\\n海啸后的第一年，他每天都在树林中艰难跋涉，独自砍下树木，用来重建他的两居室房子。只有另外两个家庭追随他的脚步重建屋宅，佐藤的妻子和儿媳意识到他的计划只是徒劳，于是离开了他。\\n\\n那些选择留在气仙的人在2011年就已经老去。现在他们更老了，已至耄耋之年。在过去十年，一个残酷的现实慢慢在这里落地生根：没有回头路了。气仙不可能恢复了。这种空寂将永远持续下去。\\n\\n对于使命可能化为乌有的结局，佐藤的态度是听天由命。他已经建起三栋房屋，让从前邻居的农田不再退化，但他承认，如果没有新居民，这个村庄将会死亡。\\n\\n“我很伤心，”他说。“人们不会回来了，我好遗憾。”\\n\\n2011年3月。 许多离开村庄的幸存者首先疏散到了陆前高田市的一所初中。\\n\\n2011年3月。 村民菅野武正在清洗他从废墟中找到的照片。\\n\\n2011年3月。 佛教僧人小林信夫的女儿小林雅子在自家的废墟中搜寻。后来雅子和她父亲一样成了一名僧侣。\\n\\n他责怪政府。当局用了九年时间、耗资8.4亿美元才完成了一个将村庄上方的高地改造为住宅建设用地的项目。\\n\\n他说，完成之时已经太晚了。几乎所有十年前离开的人都已经在别处安了家。与陆前高田市附近其他得到政府资助的城镇不同，被摧毁的气仙村上方新建的高地缺乏便利设施，比如商店和超市。',\n",
              "  'title': '3·11大地震十周年：一个被抹去的村庄'},\n",
              " {'author': ['Hamilton Nolan'],\n",
              "  'date': '2021-03-11 00:00:00',\n",
              "  'full article': '你可能听说了最近那个 采访 ，揭露了英国王室是一个充满诽谤中伤和种族主义的 我们可以让王室变好。根本不可能。不管你加多少糖，也不可能把一瓶毒药变成清甜的饮料。 恶意之地。谁说不是呢？一个作为阶级主义的实际载体而创建的机构毫无人情味，这太顺理成章了。面对如此稀松平常的内幕曝光，公众的反应有些鸡同鸭讲，因为人们普遍认为，\\n\\n对于我们了解到的信息，一个公正且适当的回应是让整个英国团结在一起，手拉手唱着《可爱的卡洛琳》(Sweet Caroline)，绕着君主制机构围成一个圈，然后把它烧毁。然后王室成员可以清扫灰烬并仔细地将其倒在垃圾桶里——一个标志着用劳动换取生计的新生活开始的仪式。\\n\\n王室的存在意味着政府承认无法解决或不在乎人民的问题。于是它提出让人民看场热闹。提升一个家庭，让它过上童话般的奢华生活，总比枯燥无味地努力提升所有家庭，使其过上不失体面的生活要简单得多。普通百姓出钱供养一帮高高在上但完全配不上这一地位的贵族，而不是反过来。任何一个在2021年仍保留王室的国家，都在证明其革命进取心的严重匮乏。\\n\\n美国曾犯下许多反人类罪行，但在这件事上我们做的是正确的。我们的总统也许会令举国蒙羞，但至少美国人没有被要求向某些完全莫名其妙的废柴有钱人——以几百年前某英国头号黑帮老大的孩子的孩子的孩子的身份证明自己的合法性——卑躬屈膝。是的，我们自己也有资本主义催眠下的对名人的痴迷，但王室完全是一个更扭曲的东西——好像把布什一家、卡戴珊一家和法威尔一家合在一起组成一个珠光宝气的带准宗教性质的崇拜名流的邪教，再添上一笔振奋人心的帝国主义色彩。\\n\\n2019年6月8日，在军旗敬礼分列式上，英国女王伊丽莎白二世和其他英国王室成员站在白金汉宫的阳台上。 Hannah Mckay/Reuters\\n\\n王室除了象征着对不平等致以的最高敬意之外，还能是什么呢？一小撮人不是基于道德价值，而是基于遗传的偶然性，享受着从公众资金中榨取来的数百万美元，并当作煽情的民族主义英雄来崇拜，换来的仅仅是他们“赏心悦目地公开亮相”的职责，而这个工作他们做得也是毁誉参半。\\n\\n超过6000万公民——其中许多人生活在贫困中——被指示要赞美而不是憎恨这种夸张的场面。他们被告知要为某人拥有梦想中的生活而感到高兴，即使某人不是他们自己，而且要通过这种王室成员上演的肥皂剧来间接体验他们的生活，而不是要求人人平等。圣上衷心期望您来观看这个节目，而不是花时间阅读卡尔·马克思(Karl Marx)。',\n",
              "  'title': '打倒英国君主制'},\n",
              " {'author': ['Leslie Jamison',\n",
              "   'Kristin Lin',\n",
              "   'Jennifer Murphy',\n",
              "   'Rachel M. Cohen',\n",
              "   'Luke Winkie',\n",
              "   'Maira Khwaja',\n",
              "   'Yaryna Serkez',\n",
              "   'Zachary D. Carter',\n",
              "   'Photographs Jessica Lehrman With'],\n",
              "  'date': '2021-03-11 00:00:00',\n",
              "  'full article': 'The empty shelves; the people in masks\\n\\non the bus; the email saying the\\n\\noffice would be closed. A year ago, we realized\\n\\nthat everything was about to change.\\n\\nFor a brief moment, it felt like we were all\\n\\nin this together. What happened? The empty shelves;\\n\\nthe people in masks on the bus;\\n\\nthe email saying the\\n\\noffice would be closed. A year\\n\\nago, we realized that\\n\\neverything was about to change.\\n\\nFor a brief moment, it felt\\n\\nlike we were all in this together.\\n\\nWhat happened? Opinion The Week\\n\\nOur\\n\\nReality\\n\\nBroke A series reflecting on a year of\\n\\nliving with the coronavirus pandemic and how\\n\\nit has affected American society. A series reflecting\\n\\non a year of living with the coronavirus\\n\\npandemic and how it\\n\\nhas affected American society.\\n\\nMarch 10 was\\n\\nthe last day I was able\\n\\nto touch my mother. March 10 was the\\n\\nlast day I was able to touch\\n\\nmy mother. Bruce Lee Kleinschmidt, 68,\\n\\nRetired attorney, Louisville, Ky. Seeing the\\n\\nN.B.A. shut down on\\n\\nlive television was a\\n\\nreal “Holy smokes, this is\\n\\nhappening” moment. Seeing the N.B.A. shut down on\\n\\nlive television was a real “Holy smokes,\\n\\nthis is happening” moment. Kelly Mallahan, 32,\\n\\nTeacher, Washington, D.C.\\n\\nI mark March 11 as\\n\\nthe day the music died. I mark March 11 as\\n\\nthe day the music died. Paula Blanchette, 61,\\n\\nRetired, Portland, Ore I knew our\\n\\ndream of selling our\\n\\nbusiness and moving\\n\\nto the beach was\\n\\ngone — or at least\\n\\nput on hold. I knew our dream of\\n\\nselling our business and moving\\n\\nto the beach was gone\\n\\n— or at least put on hold. Christopher Malm, 60,\\n\\nBusiness owner, Palm Springs, Calif. There was a\\n\\npalpable fear in the\\n\\nrestaurant,\\n\\nand that fear was\\n\\nof each other. There was a palpable\\n\\nfear in the restaurant, and that\\n\\nfear was of each other. Zachary Kaplan, 23,\\n\\nUnemployed, Virginia\\n\\nWe planned my last\\n\\nbus commute, our last in-studio\\n\\nyoga class, our last trip to\\n\\nthe movies and my last dinner\\n\\nout with my girlfriends\\n\\nfor the first week in March. We planned my last\\n\\nbus commute, our last in-studio\\n\\nyoga class, our last trip to\\n\\nthe movies and my last dinner\\n\\nout with my girlfriends\\n\\nfor the first week in March. Tara Sullivan, 49,\\n\\nDevelopment associate, Burlington, Vt. The checkout lines\\n\\nwrapped around the store.\\n\\nI thought to myself,\\n\\n“Everything is about\\n\\nto change.” The checkout lines\\n\\nwrapped around the store.\\n\\nI thought to myself,\\n\\n“Everything is about\\n\\nto change.” Leslie Lawhon, 35,\\n\\nHomemaker, Middle Island, N.Y.\\n\\nAnimation by Mario Hugo',\n",
              "  'title': 'Opinion | The Week Our Reality Broke'},\n",
              " {'author': ['The Editorial Board'],\n",
              "  'date': '2021-03-12 00:00:00',\n",
              "  'full article': 'Last week, the new head of the House Armed Services Committee, Representative Adam Smith, said in an interview that the F-35 fighter jet was a “rathole” draining money. He said the Pentagon should consider whether to “cut its losses.” That promptly set off another round of groaning about the most expensive weapon system ever built, and questions about whether it should — or could — be scrapped.\\n\\nConceived in the 1990s as a sort of Swiss army knife of fighter jets, the F-35 Joint Strike Fighter was meant to come as a conventional fighter for the Air Force, as a carrier-based fighter for the Navy and as a vertical-landing version for the Marines. The problems, and there were lots of them, set in early. All three versions of the plane ended up at least three years behind schedule, and sharing less than a quarter of their parts instead of the anticipated 70 percent. Many of those already built need updates; hundreds of defects are still being corrected; the jet is so expensive to maintain that it costs around $36,000 per hour to fly (compared to $22,000 for an older F-16). At the current rate, it will cost taxpayers more than $1 trillion over its 60-year life span.\\n\\nSo, kill the monster and start looking for alternatives? Or declare it too big to fail and make the best of it?\\n\\nLast month, the Air Force chief of staff, Gen. Charles Brown Jr., gave his answer when he said that the F-35 should become the Ferrari of the fleet: “You only drive it on Sundays.” For other days, Air Force officials recently said they were exploring less expensive options, including new F-16s, low-cost tactical drones or building another fighter from scratch. But the F-35 was here to stay, General Brown insisted: “The F-35 is the cornerstone of what we’re pursuing. Now we’re going to have the F-35, we’re getting it out, and we’re going to have it for the future.”',\n",
              "  'title': 'The F-35 Fighter: Too Pricey to Fail - The New York Times'},\n",
              " {'author': ['Kate Siber'],\n",
              "  'date': '2021-03-12 00:00:00',\n",
              "  'full article': 'Expansive vistas, serene lakes, abundant wildlife and good old fresh air — what’s not to love about national parks? So many Americans have taken refuge in parks during the pandemic that 15 of them set recreation visitation records in 2020. All of the parks have adjusted their operations as a result of Covid-19, and with social-distancing protocols still in place almost a year later, there could be competition for campsites, ferry rides, programs and, in some cases, day passes at the most popular parks.\\n\\n“This is the year to be prepared,” said John Kelly, a management assistant at Acadia National Park in Maine. “Visitors really need to plan ahead and be extra thoughtful and ready for things to be different.” All parks are currently required to abide by President Biden’s executive order mandating mask-wearing in federal buildings and on federal lands when social distancing is not possible — “even in parking lots, on trails and on mountaintops where others are present,” Mr. Kelly said.\\n\\nWith some planning and creativity, however, you can get a healthy dose of nature while avoiding crowds and hassle. And while there are only 63 proper national parks, the Park Service manages another 360 national monuments, recreation areas, seashores and other sites that offer unique attractions and fewer crowds.\\n\\n“So many people, I think most of us, are feeling so fatigued and downtrodden and exhausted by the pandemic,” said Emily Pennington, a national parks columnist for Outside magazine, who visited all of the country’s national parks in 2020. “Parks are not only relatively safe places, but also places to rekindle that sense of wonder.”',\n",
              "  'title': 'Get Outside and Safely Visit a National Park'}]"
            ]
          },
          "metadata": {
            "tags": []
          },
          "execution_count": 15
        }
      ]
    },
    {
      "cell_type": "code",
      "metadata": {
        "colab": {
          "base_uri": "https://localhost:8080/"
        },
        "id": "XHeHs0tdQwkq",
        "outputId": "2f572f8a-5873-46c0-9ee2-6b8aaf58de20"
      },
      "source": [
        "print(len(news_json)) #before removing articles with no text and author"
      ],
      "execution_count": 8,
      "outputs": [
        {
          "output_type": "stream",
          "text": [
            "23\n"
          ],
          "name": "stdout"
        }
      ]
    },
    {
      "cell_type": "code",
      "metadata": {
        "colab": {
          "base_uri": "https://localhost:8080/"
        },
        "id": "KP_nWgPZRmZH",
        "outputId": "062bb1ef-9944-4a95-da6c-c7f9c731b8f4"
      },
      "source": [
        "print(len(news_json)) #after removing articles with no text and author"
      ],
      "execution_count": 16,
      "outputs": [
        {
          "output_type": "stream",
          "text": [
            "20\n"
          ],
          "name": "stdout"
        }
      ]
    },
    {
      "cell_type": "markdown",
      "metadata": {
        "id": "B36aq8h5TCXl"
      },
      "source": [
        "#Writing JSON to Text file\r\n",
        "Note: The Chinese characters turns to unicode when converted to text file"
      ]
    },
    {
      "cell_type": "code",
      "metadata": {
        "id": "LjGVcU4FHoLD"
      },
      "source": [
        "import json\r\n",
        "from google.colab import files # only for google colab\r\n",
        "with open('news.txt', 'w') as outfile:\r\n",
        "  json.dump(news_json, outfile)"
      ],
      "execution_count": 17,
      "outputs": []
    },
    {
      "cell_type": "markdown",
      "metadata": {
        "id": "aJl0qNJUUED_"
      },
      "source": [
        "#Download JSON files from Google Colab\r\n",
        "following are only for Google Colab"
      ]
    },
    {
      "cell_type": "code",
      "metadata": {
        "colab": {
          "base_uri": "https://localhost:8080/",
          "height": 17
        },
        "id": "rtSoA1_7IcQl",
        "outputId": "45155b34-d4c6-4f52-d163-1ca16badd194"
      },
      "source": [
        "#only for Google Colab\r\n",
        "files.download('news.txt')"
      ],
      "execution_count": 19,
      "outputs": [
        {
          "output_type": "display_data",
          "data": {
            "application/javascript": [
              "\n",
              "    async function download(id, filename, size) {\n",
              "      if (!google.colab.kernel.accessAllowed) {\n",
              "        return;\n",
              "      }\n",
              "      const div = document.createElement('div');\n",
              "      const label = document.createElement('label');\n",
              "      label.textContent = `Downloading \"${filename}\": `;\n",
              "      div.appendChild(label);\n",
              "      const progress = document.createElement('progress');\n",
              "      progress.max = size;\n",
              "      div.appendChild(progress);\n",
              "      document.body.appendChild(div);\n",
              "\n",
              "      const buffers = [];\n",
              "      let downloaded = 0;\n",
              "\n",
              "      const channel = await google.colab.kernel.comms.open(id);\n",
              "      // Send a message to notify the kernel that we're ready.\n",
              "      channel.send({})\n",
              "\n",
              "      for await (const message of channel.messages) {\n",
              "        // Send a message to notify the kernel that we're ready.\n",
              "        channel.send({})\n",
              "        if (message.buffers) {\n",
              "          for (const buffer of message.buffers) {\n",
              "            buffers.push(buffer);\n",
              "            downloaded += buffer.byteLength;\n",
              "            progress.value = downloaded;\n",
              "          }\n",
              "        }\n",
              "      }\n",
              "      const blob = new Blob(buffers, {type: 'application/binary'});\n",
              "      const a = document.createElement('a');\n",
              "      a.href = window.URL.createObjectURL(blob);\n",
              "      a.download = filename;\n",
              "      div.appendChild(a);\n",
              "      a.click();\n",
              "      div.remove();\n",
              "    }\n",
              "  "
            ],
            "text/plain": [
              "<IPython.core.display.Javascript object>"
            ]
          },
          "metadata": {
            "tags": []
          }
        },
        {
          "output_type": "display_data",
          "data": {
            "application/javascript": [
              "download(\"download_0aa9dcad-8d20-4de7-9bb7-3d8ac684d91f\", \"news.txt\", 77682)"
            ],
            "text/plain": [
              "<IPython.core.display.Javascript object>"
            ]
          },
          "metadata": {
            "tags": []
          }
        }
      ]
    },
    {
      "cell_type": "code",
      "metadata": {
        "colab": {
          "base_uri": "https://localhost:8080/"
        },
        "id": "PeOIDqEcIrVH",
        "outputId": "053c31a1-5523-4294-f34d-60f637923e8f"
      },
      "source": [
        "#only for google drive\r\n",
        "from google.colab import drive\r\n",
        "drive.mount('/content/drive')"
      ],
      "execution_count": null,
      "outputs": [
        {
          "output_type": "stream",
          "text": [
            "Drive already mounted at /content/drive; to attempt to forcibly remount, call drive.mount(\"/content/drive\", force_remount=True).\n"
          ],
          "name": "stdout"
        }
      ]
    }
  ]
}